{
  "nbformat": 4,
  "nbformat_minor": 0,
  "metadata": {
    "colab": {
      "provenance": [],
      "authorship_tag": "ABX9TyPDGU2x6vs8EpO4pVmQ1AOj",
      "include_colab_link": true
    },
    "kernelspec": {
      "name": "python3",
      "display_name": "Python 3"
    },
    "language_info": {
      "name": "python"
    }
  },
  "cells": [
    {
      "cell_type": "markdown",
      "metadata": {
        "id": "view-in-github",
        "colab_type": "text"
      },
      "source": [
        "<a href=\"https://colab.research.google.com/github/flgz9654/Practicando_Python/blob/main/T02_Practicas_Repaso_Bucles_Condicionales.ipynb\" target=\"_parent\"><img src=\"https://colab.research.google.com/assets/colab-badge.svg\" alt=\"Open In Colab\"/></a>"
      ]
    },
    {
      "cell_type": "code",
      "execution_count": null,
      "metadata": {
        "colab": {
          "base_uri": "https://localhost:8080/"
        },
        "id": "i6vtXJOmuHRi",
        "outputId": "ec879c20-ff38-4060-cb60-36592d62ae96"
      },
      "outputs": [
        {
          "output_type": "stream",
          "name": "stdout",
          "text": [
            "Registra un string: Luis\n",
            "En total hay 2 vocales\n"
          ]
        }
      ],
      "source": [
        "s = input('Registra un string: ').lower()\n",
        "index = 0\n",
        "count = 0\n",
        "vocal = ('a', 'e', 'i', 'o', 'u')\n",
        "\n",
        "while index < len(s):\n",
        "    if s[index] in vocal:\n",
        "        count += 1\n",
        "    index += 1\n",
        "\n",
        "print('En total hay', count, 'vocales')"
      ]
    },
    {
      "cell_type": "code",
      "source": [
        "x = 5\n",
        "while x > 0:\n",
        "    x -=1\n",
        "    print(x)"
      ],
      "metadata": {
        "colab": {
          "base_uri": "https://localhost:8080/"
        },
        "id": "Nk4-HHlUEecs",
        "outputId": "237b4070-974b-4a2c-c8ed-71521a69b715"
      },
      "execution_count": null,
      "outputs": [
        {
          "output_type": "stream",
          "name": "stdout",
          "text": [
            "4\n",
            "3\n",
            "2\n",
            "1\n",
            "0\n"
          ]
        }
      ]
    },
    {
      "cell_type": "code",
      "source": [
        "x = [\"Uno\", \"Dos\", \"Tres\"]\n",
        "while x:\n",
        "    x.pop(0)\n",
        "    print(x)"
      ],
      "metadata": {
        "colab": {
          "base_uri": "https://localhost:8080/"
        },
        "id": "u8HJSeUhEpso",
        "outputId": "e2fce093-95e6-4881-b8db-967edf6ba45b"
      },
      "execution_count": null,
      "outputs": [
        {
          "output_type": "stream",
          "name": "stdout",
          "text": [
            "['Dos', 'Tres']\n",
            "['Tres']\n",
            "[]\n"
          ]
        }
      ]
    },
    {
      "cell_type": "code",
      "source": [
        "x = 5\n",
        "while x > 0:\n",
        "    x -=1\n",
        "    print(x)\n",
        "else:\n",
        "    print(\"El bucle ha finalizado\")"
      ],
      "metadata": {
        "colab": {
          "base_uri": "https://localhost:8080/"
        },
        "id": "x8GoqACIE4RA",
        "outputId": "31fc9932-a094-40de-ae67-b1ba7bac4d00"
      },
      "execution_count": null,
      "outputs": [
        {
          "output_type": "stream",
          "name": "stdout",
          "text": [
            "4\n",
            "3\n",
            "2\n",
            "1\n",
            "0\n",
            "El bucle ha finalizado\n"
          ]
        }
      ]
    },
    {
      "cell_type": "code",
      "source": [
        "# Permutación a generar\n",
        "i = 0\n",
        "j = 0\n",
        "while i <= 2:\n",
        "    while j <= 2:\n",
        "        print(i,j)\n",
        "        j += 1\n",
        "    i += 1\n",
        "    j = 0"
      ],
      "metadata": {
        "colab": {
          "base_uri": "https://localhost:8080/"
        },
        "id": "sLxXQfs0GP66",
        "outputId": "2793bf99-6993-45cc-903a-341e15459c7a"
      },
      "execution_count": null,
      "outputs": [
        {
          "output_type": "stream",
          "name": "stdout",
          "text": [
            "0 0\n",
            "0 1\n",
            "0 2\n",
            "1 0\n",
            "1 1\n",
            "1 2\n",
            "2 0\n",
            "2 1\n",
            "2 2\n"
          ]
        }
      ]
    },
    {
      "cell_type": "code",
      "source": [
        "z = 8\n",
        "x = 1\n",
        "while z > 0:\n",
        "    print(' ' * z + '*' * x + ' ' * z)\n",
        "    x+=2\n",
        "    z-=1"
      ],
      "metadata": {
        "colab": {
          "base_uri": "https://localhost:8080/"
        },
        "id": "vSK4CjMMIR6V",
        "outputId": "3d40f02b-1791-497f-97aa-f2bba264e202"
      },
      "execution_count": null,
      "outputs": [
        {
          "output_type": "stream",
          "name": "stdout",
          "text": [
            "        *        \n",
            "       ***       \n",
            "      *****      \n",
            "     *******     \n",
            "    *********    \n",
            "   ***********   \n",
            "  *************  \n",
            " *************** \n"
          ]
        }
      ]
    },
    {
      "cell_type": "code",
      "source": [
        "# Fibonacci \n",
        "a, b = 0, 1\n",
        "while b < 25:\n",
        "    print(b)\n",
        "    a, b = b, a + b"
      ],
      "metadata": {
        "colab": {
          "base_uri": "https://localhost:8080/"
        },
        "id": "ZCPbBwmMJOLB",
        "outputId": "19666ef2-c2a3-4d42-95d3-5e42fe82399b"
      },
      "execution_count": null,
      "outputs": [
        {
          "output_type": "stream",
          "name": "stdout",
          "text": [
            "1\n",
            "1\n",
            "2\n",
            "3\n",
            "5\n",
            "8\n",
            "13\n",
            "21\n"
          ]
        }
      ]
    },
    {
      "cell_type": "code",
      "source": [
        "# Validar si un numero dentro de un rango definido es divisible entre 2, 3 y 5\n",
        "a = int(input('Introduce el primero intervalo: '))\n",
        "b = int(input('Introduce el segundo intervalo: '))\n",
        "n = a\n",
        "\n",
        "while n <= b:\n",
        "    if n % 2 == 0 and n % 3 == 0 and n % 5 == 0:\n",
        "        print('el numero {} es divisible entre 2, 3 y 5'.format(n))\n",
        "        break\n",
        "    n += 1 \n",
        "if n == b + 1:\n",
        "    print('Dentro del intervalo {}-{} que has proporcionado, no hay numeros enteros divisibles entre 2, 3 y 5'.format(a,b))"
      ],
      "metadata": {
        "colab": {
          "base_uri": "https://localhost:8080/"
        },
        "id": "tz4Qj5Bgctpy",
        "outputId": "dc1113f4-3773-4e25-87e5-6d6f4e868ec0"
      },
      "execution_count": null,
      "outputs": [
        {
          "output_type": "stream",
          "name": "stdout",
          "text": [
            "Introduce el primero intervalo: 1\n",
            "Introduce el segundo intervalo: 10\n",
            "Dentro del intervalo 1-10 que has proporcionado, no hay numeros enteros divisibles entre 2, 3 y 5\n"
          ]
        }
      ]
    },
    {
      "cell_type": "code",
      "source": [
        "n = float(input('Introduce un numero que desees sumar: '))\n",
        "sum = 0\n",
        "\n",
        "while n != 0:\n",
        "    sum += n\n",
        "    n = float(input('Introduce un numero que desees sumar: '))\n",
        "else:\n",
        "    print('La suma total es', sum)"
      ],
      "metadata": {
        "colab": {
          "base_uri": "https://localhost:8080/"
        },
        "id": "b_bWXkgLr5l5",
        "outputId": "39f2e1c2-eca1-4721-b7a4-f1c205d9ca93"
      },
      "execution_count": null,
      "outputs": [
        {
          "output_type": "stream",
          "name": "stdout",
          "text": [
            "Introduce un numero que desees sumar: 8\n",
            "Introduce un numero que desees sumar: 8\n",
            "Introduce un numero que desees sumar: 8\n",
            "Introduce un numero que desees sumar: 0\n",
            "La suma total es 24.0\n"
          ]
        }
      ]
    },
    {
      "cell_type": "code",
      "source": [
        "s = 'Mi mama me mima esa es mi mama'\n",
        "s_inv = ''\n",
        "\n",
        "for c in s:\n",
        "    s_inv = c + s_inv\n",
        "\n",
        "print(s_inv)"
      ],
      "metadata": {
        "colab": {
          "base_uri": "https://localhost:8080/"
        },
        "id": "4JNLbshIvees",
        "outputId": "921ac2ff-8bc6-4086-c6bf-eb52139c175d"
      },
      "execution_count": null,
      "outputs": [
        {
          "output_type": "stream",
          "name": "stdout",
          "text": [
            "amam im se ase amim em amam iM\n"
          ]
        }
      ]
    },
    {
      "cell_type": "code",
      "source": [
        "lista = [1, 2, 3, 4]\n",
        "cadena = \"Python\"\n",
        "numero = 10\n",
        "print(isinstance(lista, Iterable))\n",
        "print(isinstance(cadena, Iterable))\n",
        "print(isinstance(numero, Iterable))"
      ],
      "metadata": {
        "colab": {
          "base_uri": "https://localhost:8080/"
        },
        "id": "SGcq7e1xy3wD",
        "outputId": "e1f1f755-2f52-4bff-da5b-c4efe7f61cd9"
      },
      "execution_count": null,
      "outputs": [
        {
          "output_type": "stream",
          "name": "stdout",
          "text": [
            "True\n",
            "True\n",
            "False\n"
          ]
        }
      ]
    },
    {
      "cell_type": "code",
      "source": [
        "s = input('Registra un string: ')\n",
        "letter = input('Registra una letra: ')\n",
        "\n",
        "s = s.lower()\n",
        "letter = letter.lower()\n",
        "\n",
        "for c in s:\n",
        "    if c == letter:\n",
        "        continue\n",
        "    else:\n",
        "        print(c, end = '')"
      ],
      "metadata": {
        "colab": {
          "base_uri": "https://localhost:8080/"
        },
        "id": "RiYqrEss5IEp",
        "outputId": "2602f50a-0ddb-4dc9-d048-e4e844a72504"
      },
      "execution_count": null,
      "outputs": [
        {
          "output_type": "stream",
          "name": "stdout",
          "text": [
            "Registra un string: Francisco Garcia\n",
            "Registra una letra: a\n",
            "frncisco grci"
          ]
        }
      ]
    },
    {
      "cell_type": "code",
      "source": [
        "s = 'Pensamos demasiado y sentimos muy poco'.lower()\n",
        "\n",
        "letter = input('Introduce una letra: ').lower()\n",
        "n = int(input('Introduce el numero de veces de la letra: '))\n",
        "count = 0\n",
        "vocal = ['a', 'e', 'i', 'o', 'u']\n",
        "\n",
        "for c in s:\n",
        "    if count >= n:\n",
        "        print('\\nSe ha superado el numero de apariciones')\n",
        "        break\n",
        "    if c == letter:\n",
        "        count += 1\n",
        "    elif c in vocal:\n",
        "        continue\n",
        "    print(c, end = '')"
      ],
      "metadata": {
        "id": "lcAVasnPBMIs",
        "colab": {
          "base_uri": "https://localhost:8080/"
        },
        "outputId": "5a7db820-88b8-4392-fb9b-aadb715c6682"
      },
      "execution_count": null,
      "outputs": [
        {
          "output_type": "stream",
          "name": "stdout",
          "text": [
            "Introduce una letra: s\n",
            "Introduce el numero de veces de la letra: 4\n",
            "pnsms dmsd y s\n",
            "Se ha superado el numero de apariciones\n"
          ]
        }
      ]
    },
    {
      "cell_type": "code",
      "source": [
        "print(\"Bienvenido al programa para determinar si un número es par o impar\")\n",
        "n = int(input('Introduce un numero entero: '))\n",
        "while n != 0:\n",
        "    if n % 2 == 0:\n",
        "        print('El numero {} es par'.format(n))\n",
        "        n = int(input('Introduce otro numero entero: '))\n",
        "    else:\n",
        "        print('El numero {} es impar'.format(n))\n",
        "        n = int(input('Introduce otro numero entero: '))\n",
        "\n",
        "print('El numero introducido es cero, fin del ciclo')"
      ],
      "metadata": {
        "colab": {
          "base_uri": "https://localhost:8080/"
        },
        "id": "sffZATCorwez",
        "outputId": "9a01baa1-4a8a-4c23-ad3e-a9ab18783fff"
      },
      "execution_count": null,
      "outputs": [
        {
          "output_type": "stream",
          "name": "stdout",
          "text": [
            "Bienvenido al programa para determinar si un número es par o impar\n",
            "Introduce un numero entero: 5\n",
            "El numero 5 es impar\n",
            "Introduce otro numero entero: 3\n",
            "El numero 3 es impar\n",
            "Introduce otro numero entero: 1000000\n",
            "El numero 1000000 es par\n",
            "Introduce otro numero entero: 15457897\n",
            "El numero 15457897 es impar\n",
            "Introduce otro numero entero: 0\n",
            "El numero introdicido es cero, fin del ciclo\n"
          ]
        }
      ]
    },
    {
      "cell_type": "code",
      "source": [
        "def es_par(numero):\n",
        "    if numero % 2 == 0:\n",
        "        return True\n",
        "    else:\n",
        "        return False\n",
        "\n",
        "print(\"Bienvenido al programa para determinar si un número es par o impar\")\n",
        "\n",
        "while True:\n",
        "    try:\n",
        "        n = int(input('Introduce un numero entero: '))\n",
        "        if n == 0:\n",
        "            print('El numero introdicido es cero, fin del ciclo')\n",
        "            break\n",
        "        if es_par(n):\n",
        "            print('El numero {} es par'.format(n))\n",
        "        else:\n",
        "            print('El numero {} es impar'.format(n))\n",
        "\n",
        "    except ValueError:\n",
        "        print(\"Entrada inválida, por favor introduzca un numero entero\")"
      ],
      "metadata": {
        "colab": {
          "base_uri": "https://localhost:8080/"
        },
        "id": "cMxrRouSb6za",
        "outputId": "abf41eb7-9a4c-474d-f903-27ccb4207051"
      },
      "execution_count": null,
      "outputs": [
        {
          "output_type": "stream",
          "name": "stdout",
          "text": [
            "Bienvenido al programa para determinar si un número es par o impar\n",
            "Introduce un numero entero: 2\n",
            "El numero 2 es par\n",
            "Introduce un numero entero: 3\n",
            "El numero 3 es impar\n",
            "Introduce un numero entero: 0\n",
            "El numero introdicido es cero, fin del ciclo\n"
          ]
        }
      ]
    },
    {
      "cell_type": "code",
      "source": [
        "s = input('Registra una palabra: ').lower()\n",
        "letter = input('Registra una letra: ').lower()\n",
        "\n",
        "for c in s:\n",
        "    if c == letter:\n",
        "        print('La letra {} esta en la frase'.format(letter))\n",
        "        break\n",
        "else:\n",
        "    print('la letra {}, no esta en la frase'.format(letter))"
      ],
      "metadata": {
        "colab": {
          "base_uri": "https://localhost:8080/"
        },
        "id": "29Cad0k_gHUv",
        "outputId": "e6a7ccdb-2390-4164-b219-fb8252a5454b"
      },
      "execution_count": null,
      "outputs": [
        {
          "output_type": "stream",
          "name": "stdout",
          "text": [
            "Registra una palabra: Francisco\n",
            "Registra una letra: h\n",
            "la letra h, no esta en la frase\n"
          ]
        }
      ]
    },
    {
      "cell_type": "code",
      "source": [
        "s = input('Registra una palabra: ').lower()\n",
        "letter = input('Registra una letra: ').lower()\n",
        "\n",
        "i = 0\n",
        "found = False\n",
        "\n",
        "while i < len(s):\n",
        "    if s[i] == letter:\n",
        "        found = True\n",
        "        break\n",
        "    i += 1\n",
        "\n",
        "print('La palabra {} {} contiene la letra {}'.format(s.title(), 'si' if found else 'no', letter))"
      ],
      "metadata": {
        "colab": {
          "base_uri": "https://localhost:8080/"
        },
        "id": "o8oZAL0VsfCc",
        "outputId": "a79f457b-d197-4a31-b3df-2c3daf67dff4"
      },
      "execution_count": null,
      "outputs": [
        {
          "output_type": "stream",
          "name": "stdout",
          "text": [
            "Registra una palabra: Francisco Garcia\n",
            "Registra una letra: G\n",
            "La palabra Francisco Garcia si contiene la letra g\n"
          ]
        }
      ]
    },
    {
      "cell_type": "code",
      "source": [
        "st = 'Francisco'\n",
        "for c in st:\n",
        "    print(c, end = '')"
      ],
      "metadata": {
        "colab": {
          "base_uri": "https://localhost:8080/"
        },
        "id": "D5H_QIivjUTj",
        "outputId": "b50a3e4a-05a4-4eed-8f95-69f294ef5b63"
      },
      "execution_count": null,
      "outputs": [
        {
          "output_type": "stream",
          "name": "stdout",
          "text": [
            "Francisco"
          ]
        }
      ]
    },
    {
      "cell_type": "code",
      "source": [
        "ppto = 0\n",
        "price = int(input('Registra los precios: '))\n",
        "\n",
        "while price != 0:\n",
        "    if ppto < 200:\n",
        "        ppto += price\n",
        "        print('Llevas $ {} de precios'.format(ppto))\n",
        "    else:\n",
        "        print('Has salido del bucle tu total es', ppto)\n",
        "        break\n",
        "    price = int(input('Registra los precios: '))\n",
        "else:\n",
        "    print('Has superado el ppto de $ 200 y tienes $ {}'.format(ppto))"
      ],
      "metadata": {
        "colab": {
          "base_uri": "https://localhost:8080/"
        },
        "id": "-ilGdcJ82Jiz",
        "outputId": "a4042b1d-5f7a-4ad9-88e1-7f6669752694"
      },
      "execution_count": null,
      "outputs": [
        {
          "output_type": "stream",
          "name": "stdout",
          "text": [
            "Registra los precios: 199\n",
            "Llevas $ 199 de precios\n",
            "Registra los precios: 1\n",
            "Llevas $ 200 de precios\n",
            "Registra los precios: 2\n",
            "Has salido del bucle tu total es 200\n"
          ]
        }
      ]
    },
    {
      "cell_type": "code",
      "source": [
        "price = int(input('Registra los precios: '))\n",
        "ppto = price\n",
        "\n",
        "while price != 0:\n",
        "    if ppto >= 200:\n",
        "        break\n",
        "    price = int(input('Registra los precios: '))    \n",
        "    ppto += price\n",
        "if ppto > 200:\n",
        "    print('No tienes mas ppto')\n",
        "else:\n",
        "    print('El total asciende a', ppto)"
      ],
      "metadata": {
        "colab": {
          "base_uri": "https://localhost:8080/"
        },
        "id": "RKfa3Dxa7mra",
        "outputId": "0f2fe1af-e1c5-4a6e-88d2-7f189706198f"
      },
      "execution_count": null,
      "outputs": [
        {
          "output_type": "stream",
          "name": "stdout",
          "text": [
            "Registra los precios: 200\n",
            "El total asciende a 200\n"
          ]
        }
      ]
    },
    {
      "cell_type": "code",
      "source": [
        "number = int(input('Registra un numero: '))\n",
        "pos = 0\n",
        "neg = 0\n",
        "\n",
        "while number != 0:\n",
        "    if number > 0:\n",
        "        pos += 1\n",
        "        number = int(input())\n",
        "    else:\n",
        "        neg += 1\n",
        "        number = int(input())\n",
        "\n",
        "print('Has salido de bucle, tienes {} positivos y {} negativos registrados'.format(pos, neg))"
      ],
      "metadata": {
        "colab": {
          "base_uri": "https://localhost:8080/"
        },
        "id": "Nb0mL5_pCl1j",
        "outputId": "d7e72d25-e285-45ce-aabd-d595f9663bc3"
      },
      "execution_count": null,
      "outputs": [
        {
          "output_type": "stream",
          "name": "stdout",
          "text": [
            "Registra un numero: 8\n",
            "3\n",
            "-1\n",
            "0\n",
            "Has salido de bucle, tienes 2 positivos y 1 negativos registrados\n"
          ]
        }
      ]
    },
    {
      "cell_type": "code",
      "source": [
        "number = int(input('Registra un numero: '))\n",
        "sum = 0\n",
        "count = 0\n",
        "\n",
        "while number != 0:\n",
        "    sum += number\n",
        "    count += 1\n",
        "    number = int(input('Registra otro numero: '))\n",
        "\n",
        "print('La media aritmetica de los numeros es: {}'.format(sum / count))"
      ],
      "metadata": {
        "colab": {
          "base_uri": "https://localhost:8080/"
        },
        "id": "wVYQS2zyKJ2I",
        "outputId": "a541462c-109a-4a1c-8c75-d42feb7a9bcc"
      },
      "execution_count": null,
      "outputs": [
        {
          "output_type": "stream",
          "name": "stdout",
          "text": [
            "Registra un numero: 15\n",
            "Registra otro numero: 36\n",
            "Registra otro numero: 47\n",
            "Registra otro numero: 0\n",
            "La media aritmetica de los numeros es: 32.666666666666664\n"
          ]
        }
      ]
    },
    {
      "cell_type": "code",
      "source": [
        "number = int(input('Registra un numero: '))\n",
        "mean = 0\n",
        "total = 0\n",
        "\n",
        "while number != 0:\n",
        "    total += 1\n",
        "    mean = (mean * (total - 1) + number) / total\n",
        "    number = int(input('Registra un numero: '))\n",
        "\n",
        "print('La media aritmetica de los numeros es:', mean) "
      ],
      "metadata": {
        "colab": {
          "base_uri": "https://localhost:8080/"
        },
        "id": "_taEuM7jNzNF",
        "outputId": "9be33332-4840-4950-f337-e52ed377e1e6"
      },
      "execution_count": null,
      "outputs": [
        {
          "output_type": "stream",
          "name": "stdout",
          "text": [
            "Registra un numero: 15\n",
            "Registra un numero: 36\n",
            "Registra un numero: 47\n",
            "Registra un numero: 0\n",
            "La media aritmetica de los numeros es:  32.666666666666664\n"
          ]
        }
      ]
    }
  ]
}