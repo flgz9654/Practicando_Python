{
  "nbformat": 4,
  "nbformat_minor": 0,
  "metadata": {
    "colab": {
      "provenance": [],
      "authorship_tag": "ABX9TyNdkXic3SI71mMAwFlWlDoh",
      "include_colab_link": true
    },
    "kernelspec": {
      "name": "python3",
      "display_name": "Python 3"
    },
    "language_info": {
      "name": "python"
    }
  },
  "cells": [
    {
      "cell_type": "markdown",
      "metadata": {
        "id": "view-in-github",
        "colab_type": "text"
      },
      "source": [
        "<a href=\"https://colab.research.google.com/github/flgz9654/Practicando_Python/blob/main/Strings_con_Python.ipynb\" target=\"_parent\"><img src=\"https://colab.research.google.com/assets/colab-badge.svg\" alt=\"Open In Colab\"/></a>"
      ]
    },
    {
      "cell_type": "code",
      "execution_count": null,
      "metadata": {
        "colab": {
          "base_uri": "https://localhost:8080/"
        },
        "id": "ynR3UB0SBb21",
        "outputId": "e7fe5c48-c7d7-4369-e912-6e61f89dbc0f"
      },
      "outputs": [
        {
          "output_type": "stream",
          "name": "stdout",
          "text": [
            "Había una vez, un barquito chiquitito Había una vez, un barquito chiquitito que no podía, que no podía, que no podía navegar.\n"
          ]
        }
      ],
      "source": [
        "s1 = \"Había una vez, \"\n",
        "s2 = \"un barquito chiquitito \"\n",
        "s3 = \"que no podía, \"\n",
        "s4 = \"que no podía navegar.\"\n",
        "print(s1 + s2 + s1 + s2 + s3 * 2 + s4)"
      ]
    },
    {
      "cell_type": "code",
      "source": [
        "print(\"Érase un hombre a una nariz pegado, \\nÉrase una nariz superlativa,\" +\n",
        "\"\\nÉrase una alquitara medio viva, \\nÉrase un peje espada mal barbado;\")"
      ],
      "metadata": {
        "colab": {
          "base_uri": "https://localhost:8080/"
        },
        "id": "VV_a4AMnCK-h",
        "outputId": "756d0662-9147-4b6a-d42e-7e2c3ff0579e"
      },
      "execution_count": null,
      "outputs": [
        {
          "output_type": "stream",
          "name": "stdout",
          "text": [
            "Érase un hombre a una nariz pegado, \n",
            "Érase una nariz superlativa,\n",
            "Érase una alquitara medio viva, \n",
            "Érase un peje espada mal barbado;\n"
          ]
        }
      ]
    },
    {
      "cell_type": "code",
      "source": [
        "s = \"me encantan las matemáticas\"\n",
        "print(s.upper())"
      ],
      "metadata": {
        "colab": {
          "base_uri": "https://localhost:8080/"
        },
        "id": "K6-lUYEtCxB9",
        "outputId": "5af3c96e-7a7a-4cbe-f9ae-0178a3a4344f"
      },
      "execution_count": null,
      "outputs": [
        {
          "output_type": "stream",
          "name": "stdout",
          "text": [
            "ME ENCANTAN LAS MATEMÁTICAS\n"
          ]
        }
      ]
    },
    {
      "cell_type": "code",
      "source": [
        "s = \"Mi pasión por el chocolate es superior a mis fuerzas\"\n",
        "len(s)"
      ],
      "metadata": {
        "colab": {
          "base_uri": "https://localhost:8080/"
        },
        "id": "2eLy_BAJC8LD",
        "outputId": "1a8908ee-6616-4fb8-fecf-656be425652b"
      },
      "execution_count": null,
      "outputs": [
        {
          "output_type": "execute_result",
          "data": {
            "text/plain": [
              "52"
            ]
          },
          "metadata": {},
          "execution_count": 9
        }
      ]
    },
    {
      "cell_type": "code",
      "source": [
        "s = \"Mi pasión por el chocolate es superior a mis fuerzas\"\n",
        "position1 = s.find(\"chocolate\")\n",
        "position2 = position1 + len(\"chocolate\")\n",
        "s_sub = s[position1:position2]\n",
        "print(s_sub)"
      ],
      "metadata": {
        "colab": {
          "base_uri": "https://localhost:8080/"
        },
        "id": "MV3FkqDjC8AM",
        "outputId": "71edf8a0-b670-462d-832e-a070ea92b279"
      },
      "execution_count": null,
      "outputs": [
        {
          "output_type": "stream",
          "name": "stdout",
          "text": [
            "chocolate\n"
          ]
        }
      ]
    },
    {
      "cell_type": "code",
      "source": [
        "print(\"Registra tu nombre: \")\n",
        "name = input()"
      ],
      "metadata": {
        "colab": {
          "base_uri": "https://localhost:8080/"
        },
        "id": "SsrqkcFcGIA_",
        "outputId": "80004b0f-c226-41ca-cf04-f6b75fdfb56e"
      },
      "execution_count": null,
      "outputs": [
        {
          "name": "stdout",
          "output_type": "stream",
          "text": [
            "Registra tu nombre: \n",
            "Francisco\n"
          ]
        }
      ]
    },
    {
      "cell_type": "code",
      "source": [
        "print(\"Registra tu apellido\")\n",
        "apellido = input()"
      ],
      "metadata": {
        "colab": {
          "base_uri": "https://localhost:8080/"
        },
        "id": "Zt8mFnaeG0lA",
        "outputId": "5085a6ac-797c-4027-ee9c-81b93d3271b4"
      },
      "execution_count": null,
      "outputs": [
        {
          "name": "stdout",
          "output_type": "stream",
          "text": [
            "Registra tu apellido\n",
            "García\n"
          ]
        }
      ]
    },
    {
      "cell_type": "code",
      "source": [
        "print(\"Por favor registra tu edad\")\n",
        "edad = int(input())"
      ],
      "metadata": {
        "colab": {
          "base_uri": "https://localhost:8080/"
        },
        "id": "CCTGUplJHGoL",
        "outputId": "02101505-0334-4775-bc4c-792d65c82d5c"
      },
      "execution_count": null,
      "outputs": [
        {
          "name": "stdout",
          "output_type": "stream",
          "text": [
            "Por favor registra tu edad\n",
            "28\n"
          ]
        }
      ]
    },
    {
      "cell_type": "code",
      "source": [
        "print(\"Registra tu ciudad de residencia\")\n",
        "ciudad = input()"
      ],
      "metadata": {
        "colab": {
          "base_uri": "https://localhost:8080/"
        },
        "id": "LIp4NCooHHwB",
        "outputId": "232a4b2d-3e42-4743-c4c6-b1c706803144"
      },
      "execution_count": null,
      "outputs": [
        {
          "name": "stdout",
          "output_type": "stream",
          "text": [
            "Registra tu ciudad de residencia\n",
            "Cali, Colombia\n"
          ]
        }
      ]
    },
    {
      "cell_type": "code",
      "source": [
        "print(\"Su nombre es {} {}, tiene {} años y actualmente vive en {}\"\n",
        ".format(name, apellido, edad, ciudad))"
      ],
      "metadata": {
        "colab": {
          "base_uri": "https://localhost:8080/"
        },
        "id": "jq1ZNX8LHHlZ",
        "outputId": "bb371902-f7dc-4e2a-ceca-5fa7cf09128f"
      },
      "execution_count": null,
      "outputs": [
        {
          "output_type": "stream",
          "name": "stdout",
          "text": [
            "Su nombre es Francisco García, tiene 28 años y actualmente vive en Cali, Colombia\n"
          ]
        }
      ]
    }
  ]
}