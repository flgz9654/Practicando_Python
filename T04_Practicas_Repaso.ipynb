{
  "nbformat": 4,
  "nbformat_minor": 0,
  "metadata": {
    "colab": {
      "provenance": [],
      "authorship_tag": "ABX9TyPDICS2As2Dy6y/2LViV5RZ",
      "include_colab_link": true
    },
    "kernelspec": {
      "name": "python3",
      "display_name": "Python 3"
    },
    "language_info": {
      "name": "python"
    }
  },
  "cells": [
    {
      "cell_type": "markdown",
      "metadata": {
        "id": "view-in-github",
        "colab_type": "text"
      },
      "source": [
        "<a href=\"https://colab.research.google.com/github/flgz9654/Practicando_Python/blob/main/T04_Practicas_Repaso.ipynb\" target=\"_parent\"><img src=\"https://colab.research.google.com/assets/colab-badge.svg\" alt=\"Open In Colab\"/></a>"
      ]
    },
    {
      "cell_type": "code",
      "source": [
        "import keyword\n",
        "print('*' * 10)\n",
        "print('Palabras Reservadas en Python')\n",
        "print('*' * 10 )\n",
        "for element in keyword.kwlist:\n",
        "    print(element)"
      ],
      "metadata": {
        "colab": {
          "base_uri": "https://localhost:8080/"
        },
        "id": "KMNHL-R57bTS",
        "outputId": "b221aee1-7cd2-4bb2-f1ce-40d633c8a2ea"
      },
      "execution_count": null,
      "outputs": [
        {
          "output_type": "stream",
          "name": "stdout",
          "text": [
            "**********\n",
            "Palabras Reservadas en Python\n",
            "**********\n",
            "False\n",
            "None\n",
            "True\n",
            "and\n",
            "as\n",
            "assert\n",
            "async\n",
            "await\n",
            "break\n",
            "class\n",
            "continue\n",
            "def\n",
            "del\n",
            "elif\n",
            "else\n",
            "except\n",
            "finally\n",
            "for\n",
            "from\n",
            "global\n",
            "if\n",
            "import\n",
            "in\n",
            "is\n",
            "lambda\n",
            "nonlocal\n",
            "not\n",
            "or\n",
            "pass\n",
            "raise\n",
            "return\n",
            "try\n",
            "while\n",
            "with\n",
            "yield\n"
          ]
        }
      ]
    },
    {
      "cell_type": "code",
      "execution_count": null,
      "metadata": {
        "colab": {
          "base_uri": "https://localhost:8080/"
        },
        "id": "GFLT708m2mHN",
        "outputId": "e18b318b-4a89-45d4-c0e6-80e50402df7d"
      },
      "outputs": [
        {
          "output_type": "stream",
          "name": "stdout",
          "text": [
            "Registra un numero aleatorio: -4789\n",
            "El numero => -4789.0 es negativo\n"
          ]
        }
      ],
      "source": [
        "number = float(input('Registra un numero aleatorio: '))\n",
        "\n",
        "if number == 0:\n",
        "    print('El numero => {} es un cero'.format(number))\n",
        "elif number < 0:\n",
        "    print('El numero => {} es negativo'.format(number))\n",
        "\n",
        "else:\n",
        "    print('El numero => {} es positivo'.format(number))"
      ]
    },
    {
      "cell_type": "code",
      "source": [
        "name = input('Registra tu nombre: ')\n",
        "caract = len(name)\n",
        "\n",
        "if caract > 10:\n",
        "    print('Tu nombre {} tiene {} caracteres y supera el maximo de 10 caracteres'.format(name, caract))\n",
        "else:\n",
        "    print('Tu nombre {} tiene {} caracteres y es menor de 10 caracteres'.format(name, caract))"
      ],
      "metadata": {
        "colab": {
          "base_uri": "https://localhost:8080/"
        },
        "id": "MePbYbKH4RzI",
        "outputId": "c6dc0145-7616-4d62-9111-3e5965074500"
      },
      "execution_count": null,
      "outputs": [
        {
          "output_type": "stream",
          "name": "stdout",
          "text": [
            "Registra tu nombre: Francisco Garcia\n",
            "Tu nombre Francisco Garcia tiene 16 caracteres y supera el maximo de 10 caracteres\n"
          ]
        }
      ]
    },
    {
      "cell_type": "code",
      "source": [
        "name = input('Registra tu nombre: ')\n",
        "caract = len(name)\n",
        "a = 'Tu nombre {} tiene {} caracteres y supera el maximo de 10 caracteres'.format(name, caract)\n",
        "b = 'Tu nombre {} tiene {} caracteres y es menor de 10 caracteres'.format(name, caract)\n",
        "\n",
        "print(a) if caract > 10 else print(b)"
      ],
      "metadata": {
        "colab": {
          "base_uri": "https://localhost:8080/"
        },
        "id": "1juHFr_G5dfn",
        "outputId": "5a04969f-b131-4159-c9e8-e0fb7d9e8a5c"
      },
      "execution_count": null,
      "outputs": [
        {
          "output_type": "stream",
          "name": "stdout",
          "text": [
            "Registra tu nombre: Francisco Luis\n",
            "Tu nombre Francisco Luis tiene 14 caracteres y supera el maximo de 10 caracteres\n"
          ]
        }
      ]
    },
    {
      "cell_type": "code",
      "source": [
        "while True:\n",
        "    number_a = int(input('Registra un numero positivo: '))\n",
        "    number_b = int(input('Registra otro numero positivo: '))\n",
        "    if number_a <= 0 or number_b <= 0:\n",
        "        print('Tus numeros no son positivos')\n",
        "    else:\n",
        "        print(number_a/number_b)\n",
        "        break"
      ],
      "metadata": {
        "colab": {
          "base_uri": "https://localhost:8080/"
        },
        "id": "i8DkE4OE92wK",
        "outputId": "790326e6-845d-4b2a-fd9e-e2d2a456c8b2"
      },
      "execution_count": null,
      "outputs": [
        {
          "output_type": "stream",
          "name": "stdout",
          "text": [
            "Registra un numero positivo: 9\n",
            "Registra otro numero positivo: -5\n",
            "Tus numeros no son positivos\n",
            "Registra un numero positivo: -8\n",
            "Registra otro numero positivo: 9\n",
            "Tus numeros no son positivos\n",
            "Registra un numero positivo: 15\n",
            "Registra otro numero positivo: 3\n",
            "5.0\n"
          ]
        }
      ]
    },
    {
      "cell_type": "code",
      "source": [
        "number_a = int(input('Registra un numero positivo: '))\n",
        "number_b = int(input('Registra otro numero positivo: '))\n",
        "\n",
        "if number_a > number_b:\n",
        "    print('El 1er numero introducido es mayor al segundo numero')\n",
        "else:\n",
        "    print('El 1er numero introducido es menor que el segundo')\n",
        "if number_a % number_b == 0:\n",
        "    print('la division entre {}/{} es exacta y su cociente es {}'.format(number_a, number_b, number_a//number_b))\n",
        "else:\n",
        "    print('la division entre {}/{} no es exacta, su cociente es {} y su resto es {}'.format(number_a, number_b, number_a//number_b, number_a % number_b))"
      ],
      "metadata": {
        "colab": {
          "base_uri": "https://localhost:8080/"
        },
        "id": "NBFEatsssqvL",
        "outputId": "d7efb8c4-9fef-4c2c-ba9f-32b1c201606f"
      },
      "execution_count": null,
      "outputs": [
        {
          "output_type": "stream",
          "name": "stdout",
          "text": [
            "Registra un numero positivo: 6\n",
            "Registra otro numero positivo: 16\n",
            "El 1er numero introducido es menor que el segundo\n",
            "la division entre 6/16 no es exacta, su cociente es 0 y su resto es 6\n"
          ]
        }
      ]
    },
    {
      "cell_type": "code",
      "source": [
        "def validar_positivo(num):\n",
        "    return num > 0\n",
        "\n",
        "print(\"Introduce dos números enteros positivos\")\n",
        "\n",
        "while True:\n",
        "    print(\"Primer numero:\")\n",
        "    number1 = int(input())\n",
        "    if validar_positivo(number1):\n",
        "        break\n",
        "    print(\"Debe ser un número positivo\")\n",
        "\n",
        "while True:\n",
        "    print(\"Segundo numero:\")\n",
        "    number2 = int(input())\n",
        "    if validar_positivo(number2) and number2!=0:\n",
        "        break\n",
        "    print(\"Debe ser un número positivo diferente a cero\")\n",
        "\n",
        "if number1 > number2:\n",
        "    mayor = number1\n",
        "    menor = number2\n",
        "else:\n",
        "    mayor = number2\n",
        "    menor = number1\n",
        "\n",
        "if mayor % menor == 0:\n",
        "    print(\"{} es múltiplo de {}\".format(mayor, menor))\n",
        "else:\n",
        "    print(\"{} no es múltiplo de {}\".format(mayor, menor))\n"
      ],
      "metadata": {
        "colab": {
          "base_uri": "https://localhost:8080/"
        },
        "id": "ymteYaTnuoGb",
        "outputId": "a611a077-1d20-4285-8ca8-d6b5ae37d8ea"
      },
      "execution_count": null,
      "outputs": [
        {
          "output_type": "stream",
          "name": "stdout",
          "text": [
            "Introduce dos números enteros positivos\n",
            "Primer numero:\n",
            "8\n",
            "Segundo numero:\n",
            "9\n",
            "9 no es múltiplo de 8\n"
          ]
        }
      ]
    },
    {
      "cell_type": "code",
      "source": [
        "prices = {'apple': 0.75, 'egg': 0.50}\n",
        "cart = {\n",
        "  'apple': 1,\n",
        "  'egg': 6\n",
        "}\n",
        "\n",
        "bill = sum(prices[item] * cart[item]\n",
        "           for item in prices)\n",
        "\n",
        "print(f'I have to pay {bill:.2f}')"
      ],
      "metadata": {
        "colab": {
          "base_uri": "https://localhost:8080/"
        },
        "id": "65yUdO_ryEJG",
        "outputId": "e74694d5-9301-40cf-c559-7f1223bbb8b2"
      },
      "execution_count": null,
      "outputs": [
        {
          "output_type": "stream",
          "name": "stdout",
          "text": [
            "I have to pay 3.75\n"
          ]
        }
      ]
    },
    {
      "cell_type": "code",
      "source": [
        "while True:\n",
        "    string = input('Registra una palabra => ')\n",
        "    ini = string[0]\n",
        "    if string.find(' ') == -1: # el metodo find nos devuelve -1 cuando no encuentra el caracter buscado\n",
        "        if string[0].isupper() == True:\n",
        "            print('Tu palabra inicia con {} en mayuscula'.format(ini))\n",
        "            break\n",
        "        else:\n",
        "            print('Tu palabra inicia con {} en minuscula'.format(ini))\n",
        "            break\n",
        "    else:\n",
        "        print('El string que has introducido tiene mas de una palabra, intenta de nuevo')"
      ],
      "metadata": {
        "colab": {
          "base_uri": "https://localhost:8080/"
        },
        "id": "f7vmHlO7fWH2",
        "outputId": "ceff68ce-c7ca-4c61-d4de-0f43ca876b52"
      },
      "execution_count": null,
      "outputs": [
        {
          "output_type": "stream",
          "name": "stdout",
          "text": [
            "Registra una palabra => francisco garcia\n",
            "El string que has introducido tiene mas de una palabra, intenta de nuevo\n",
            "Registra una palabra => garcia\n",
            "Tu palabra inicia con g en minuscula\n"
          ]
        }
      ]
    },
    {
      "cell_type": "code",
      "source": [
        "s = \"Primer linea\\nSegunda linea\" # con el metodo \\n se puede incluir un salto de linea \n",
        "print(s)"
      ],
      "metadata": {
        "colab": {
          "base_uri": "https://localhost:8080/"
        },
        "id": "T4r-Epr7ndOn",
        "outputId": "1b76c51c-7b8d-44d9-9d0d-a6fce2c6ca56"
      },
      "execution_count": null,
      "outputs": [
        {
          "output_type": "stream",
          "name": "stdout",
          "text": [
            "Primer linea\n",
            "Segunda linea\n"
          ]
        }
      ]
    },
    {
      "cell_type": "code",
      "source": [
        "vocal = ('a', 'e', 'i', 'o', 'u')\n",
        "\n",
        "while True:\n",
        "    letter = input('Introduce una letra: ').lower()\n",
        "    if len(letter) == 1 and letter.isalpha():\n",
        "        if letter in vocal:\n",
        "            print('Tu letra {} es una vocal'.format(letter))\n",
        "            break\n",
        "        else:\n",
        "            print('Tu letra {} es una consonante'.format(letter))\n",
        "            break\n",
        "    else:\n",
        "        print('El string que has introducido no es una letra, intenta de nuevo')"
      ],
      "metadata": {
        "id": "A3p1fSL0owyw",
        "colab": {
          "base_uri": "https://localhost:8080/"
        },
        "outputId": "2b3eae51-4fa8-4753-e30d-78566eb676f9"
      },
      "execution_count": null,
      "outputs": [
        {
          "output_type": "stream",
          "name": "stdout",
          "text": [
            "Introduce una letra: k\n",
            "Tu letra k es una consonante\n"
          ]
        }
      ]
    }
  ]
}